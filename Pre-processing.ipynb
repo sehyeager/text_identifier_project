{
 "cells": [
  {
   "cell_type": "code",
   "execution_count": 41,
   "metadata": {},
   "outputs": [],
   "source": [
    "import pandas as pd\n",
    "import re\n",
    "from nltk.corpus import stopwords, wordnet\n",
    "from nltk.tokenize import word_tokenize\n",
    "from nltk.stem import WordNetLemmatizer\n",
    "from collections import Counter\n",
    "from preprocessing import preprocess_text\n",
    "from sklearn.feature_extraction.text import TfidfVectorizer"
   ]
  },
  {
   "cell_type": "markdown",
   "metadata": {},
   "source": [
    "## Initial load and inspection"
   ]
  },
  {
   "cell_type": "code",
   "execution_count": 42,
   "metadata": {},
   "outputs": [],
   "source": [
    "#load in data, provided by Codecademy\n",
    "df = pd.read_csv('./data/clean_nus_sms.csv')"
   ]
  },
  {
   "cell_type": "code",
   "execution_count": 43,
   "metadata": {},
   "outputs": [
    {
     "data": {
      "text/html": [
       "<div>\n",
       "<style scoped>\n",
       "    .dataframe tbody tr th:only-of-type {\n",
       "        vertical-align: middle;\n",
       "    }\n",
       "\n",
       "    .dataframe tbody tr th {\n",
       "        vertical-align: top;\n",
       "    }\n",
       "\n",
       "    .dataframe thead th {\n",
       "        text-align: right;\n",
       "    }\n",
       "</style>\n",
       "<table border=\"1\" class=\"dataframe\">\n",
       "  <thead>\n",
       "    <tr style=\"text-align: right;\">\n",
       "      <th></th>\n",
       "      <th>Unnamed: 0</th>\n",
       "      <th>id</th>\n",
       "      <th>Message</th>\n",
       "      <th>length</th>\n",
       "      <th>country</th>\n",
       "      <th>Date</th>\n",
       "    </tr>\n",
       "  </thead>\n",
       "  <tbody>\n",
       "    <tr>\n",
       "      <th>0</th>\n",
       "      <td>0</td>\n",
       "      <td>10120</td>\n",
       "      <td>Bugis oso near wat...</td>\n",
       "      <td>21</td>\n",
       "      <td>SG</td>\n",
       "      <td>2003/4</td>\n",
       "    </tr>\n",
       "    <tr>\n",
       "      <th>1</th>\n",
       "      <td>1</td>\n",
       "      <td>10121</td>\n",
       "      <td>Go until jurong point, crazy.. Available only ...</td>\n",
       "      <td>111</td>\n",
       "      <td>SG</td>\n",
       "      <td>2003/4</td>\n",
       "    </tr>\n",
       "    <tr>\n",
       "      <th>2</th>\n",
       "      <td>2</td>\n",
       "      <td>10122</td>\n",
       "      <td>I dunno until when... Lets go learn pilates...</td>\n",
       "      <td>46</td>\n",
       "      <td>SG</td>\n",
       "      <td>2003/4</td>\n",
       "    </tr>\n",
       "    <tr>\n",
       "      <th>3</th>\n",
       "      <td>3</td>\n",
       "      <td>10123</td>\n",
       "      <td>Den only weekdays got special price... Haiz......</td>\n",
       "      <td>140</td>\n",
       "      <td>SG</td>\n",
       "      <td>2003/4</td>\n",
       "    </tr>\n",
       "    <tr>\n",
       "      <th>4</th>\n",
       "      <td>4</td>\n",
       "      <td>10124</td>\n",
       "      <td>Meet after lunch la...</td>\n",
       "      <td>22</td>\n",
       "      <td>SG</td>\n",
       "      <td>2003/4</td>\n",
       "    </tr>\n",
       "  </tbody>\n",
       "</table>\n",
       "</div>"
      ],
      "text/plain": [
       "   Unnamed: 0     id                                            Message  \\\n",
       "0           0  10120                              Bugis oso near wat...   \n",
       "1           1  10121  Go until jurong point, crazy.. Available only ...   \n",
       "2           2  10122     I dunno until when... Lets go learn pilates...   \n",
       "3           3  10123  Den only weekdays got special price... Haiz......   \n",
       "4           4  10124                             Meet after lunch la...   \n",
       "\n",
       "  length country    Date  \n",
       "0     21      SG  2003/4  \n",
       "1    111      SG  2003/4  \n",
       "2     46      SG  2003/4  \n",
       "3    140      SG  2003/4  \n",
       "4     22      SG  2003/4  "
      ]
     },
     "execution_count": 43,
     "metadata": {},
     "output_type": "execute_result"
    }
   ],
   "source": [
    "df.head()"
   ]
  },
  {
   "cell_type": "code",
   "execution_count": 44,
   "metadata": {},
   "outputs": [],
   "source": [
    "#drop the index column\n",
    "df.drop(columns= 'Unnamed: 0', inplace = True)"
   ]
  },
  {
   "cell_type": "code",
   "execution_count": 45,
   "metadata": {},
   "outputs": [
    {
     "data": {
      "text/plain": [
       "(48598, 5)"
      ]
     },
     "execution_count": 45,
     "metadata": {},
     "output_type": "execute_result"
    }
   ],
   "source": [
    "df.shape"
   ]
  },
  {
   "cell_type": "code",
   "execution_count": 46,
   "metadata": {},
   "outputs": [
    {
     "data": {
      "text/plain": [
       "id          int64\n",
       "Message    object\n",
       "length     object\n",
       "country    object\n",
       "Date       object\n",
       "dtype: object"
      ]
     },
     "execution_count": 46,
     "metadata": {},
     "output_type": "execute_result"
    }
   ],
   "source": [
    "df.dtypes"
   ]
  },
  {
   "cell_type": "code",
   "execution_count": 47,
   "metadata": {},
   "outputs": [],
   "source": [
    "#make capitals lowercase, drop duplicate columns\n",
    "df['message'] = df['Message']\n",
    "df['date'] = df['Date']\n",
    "df.drop(columns = ['Message', 'Date'], inplace = True)"
   ]
  },
  {
   "cell_type": "code",
   "execution_count": 48,
   "metadata": {
    "scrolled": true
   },
   "outputs": [
    {
     "data": {
      "text/html": [
       "<div>\n",
       "<style scoped>\n",
       "    .dataframe tbody tr th:only-of-type {\n",
       "        vertical-align: middle;\n",
       "    }\n",
       "\n",
       "    .dataframe tbody tr th {\n",
       "        vertical-align: top;\n",
       "    }\n",
       "\n",
       "    .dataframe thead th {\n",
       "        text-align: right;\n",
       "    }\n",
       "</style>\n",
       "<table border=\"1\" class=\"dataframe\">\n",
       "  <thead>\n",
       "    <tr style=\"text-align: right;\">\n",
       "      <th></th>\n",
       "      <th>id</th>\n",
       "      <th>length</th>\n",
       "      <th>country</th>\n",
       "      <th>message</th>\n",
       "      <th>date</th>\n",
       "    </tr>\n",
       "  </thead>\n",
       "  <tbody>\n",
       "    <tr>\n",
       "      <th>0</th>\n",
       "      <td>10120</td>\n",
       "      <td>21</td>\n",
       "      <td>SG</td>\n",
       "      <td>Bugis oso near wat...</td>\n",
       "      <td>2003/4</td>\n",
       "    </tr>\n",
       "    <tr>\n",
       "      <th>1</th>\n",
       "      <td>10121</td>\n",
       "      <td>111</td>\n",
       "      <td>SG</td>\n",
       "      <td>Go until jurong point, crazy.. Available only ...</td>\n",
       "      <td>2003/4</td>\n",
       "    </tr>\n",
       "    <tr>\n",
       "      <th>2</th>\n",
       "      <td>10122</td>\n",
       "      <td>46</td>\n",
       "      <td>SG</td>\n",
       "      <td>I dunno until when... Lets go learn pilates...</td>\n",
       "      <td>2003/4</td>\n",
       "    </tr>\n",
       "    <tr>\n",
       "      <th>3</th>\n",
       "      <td>10123</td>\n",
       "      <td>140</td>\n",
       "      <td>SG</td>\n",
       "      <td>Den only weekdays got special price... Haiz......</td>\n",
       "      <td>2003/4</td>\n",
       "    </tr>\n",
       "    <tr>\n",
       "      <th>4</th>\n",
       "      <td>10124</td>\n",
       "      <td>22</td>\n",
       "      <td>SG</td>\n",
       "      <td>Meet after lunch la...</td>\n",
       "      <td>2003/4</td>\n",
       "    </tr>\n",
       "  </tbody>\n",
       "</table>\n",
       "</div>"
      ],
      "text/plain": [
       "      id length country                                            message  \\\n",
       "0  10120     21      SG                              Bugis oso near wat...   \n",
       "1  10121    111      SG  Go until jurong point, crazy.. Available only ...   \n",
       "2  10122     46      SG     I dunno until when... Lets go learn pilates...   \n",
       "3  10123    140      SG  Den only weekdays got special price... Haiz......   \n",
       "4  10124     22      SG                             Meet after lunch la...   \n",
       "\n",
       "     date  \n",
       "0  2003/4  \n",
       "1  2003/4  \n",
       "2  2003/4  \n",
       "3  2003/4  \n",
       "4  2003/4  "
      ]
     },
     "execution_count": 48,
     "metadata": {},
     "output_type": "execute_result"
    }
   ],
   "source": [
    "df.head()"
   ]
  },
  {
   "cell_type": "markdown",
   "metadata": {},
   "source": [
    "## Vectorizing messages"
   ]
  },
  {
   "cell_type": "code",
   "execution_count": 49,
   "metadata": {},
   "outputs": [],
   "source": [
    "#make certain that all messages are string, for purposes of vectorizing\n",
    "df['message'] = df['message'].astype(str)"
   ]
  },
  {
   "cell_type": "code",
   "execution_count": 50,
   "metadata": {},
   "outputs": [],
   "source": [
    "#preprocess text from preprocessing.py, which includes tokenizing, stopword removal, etc\n",
    "df['preprocessed_message'] = df['message'].apply(preprocess_text)"
   ]
  },
  {
   "cell_type": "code",
   "execution_count": 51,
   "metadata": {},
   "outputs": [],
   "source": [
    "#create vectorizer and fit it\n",
    "vectorizer = TfidfVectorizer(norm = None)\n",
    "tfidf_scores = vectorizer.fit_transform(df['preprocessed_message'])\n",
    "\n",
    "feature_names = vectorizer.get_feature_names()\n",
    "\n",
    "\n",
    "message_index = [f\"Message {i+1}\" for i in range(len(df))]"
   ]
  },
  {
   "cell_type": "code",
   "execution_count": 54,
   "metadata": {},
   "outputs": [
    {
     "name": "stdout",
     "output_type": "stream",
     "text": [
      "        Message 1  Message 2  Message 3  Message 4  Message 5  Message 6  \\\n",
      "00            0.0        0.0        0.0        0.0        0.0        0.0   \n",
      "000           0.0        0.0        0.0        0.0        0.0        0.0   \n",
      "000pes        0.0        0.0        0.0        0.0        0.0        0.0   \n",
      "001           0.0        0.0        0.0        0.0        0.0        0.0   \n",
      "00am          0.0        0.0        0.0        0.0        0.0        0.0   \n",
      "...           ...        ...        ...        ...        ...        ...   \n",
      "鞛堨姷雼堧嫟        0.0        0.0        0.0        0.0        0.0        0.0   \n",
      "頃滉淡鞏措ゼ        0.0        0.0        0.0        0.0        0.0        0.0   \n",
      "饮水思源          0.0        0.0        0.0        0.0        0.0        0.0   \n",
      "骨奶            0.0        0.0        0.0        0.0        0.0        0.0   \n",
      "鸿兔大展          0.0        0.0        0.0        0.0        0.0        0.0   \n",
      "\n",
      "        Message 7  Message 8  Message 9  Message 10  ...  Message 48589  \\\n",
      "00            0.0        0.0        0.0         0.0  ...            0.0   \n",
      "000           0.0        0.0        0.0         0.0  ...            0.0   \n",
      "000pes        0.0        0.0        0.0         0.0  ...            0.0   \n",
      "001           0.0        0.0        0.0         0.0  ...            0.0   \n",
      "00am          0.0        0.0        0.0         0.0  ...            0.0   \n",
      "...           ...        ...        ...         ...  ...            ...   \n",
      "鞛堨姷雼堧嫟        0.0        0.0        0.0         0.0  ...            0.0   \n",
      "頃滉淡鞏措ゼ        0.0        0.0        0.0         0.0  ...            0.0   \n",
      "饮水思源          0.0        0.0        0.0         0.0  ...            0.0   \n",
      "骨奶            0.0        0.0        0.0         0.0  ...            0.0   \n",
      "鸿兔大展          0.0        0.0        0.0         0.0  ...            0.0   \n",
      "\n",
      "        Message 48590  Message 48591  Message 48592  Message 48593  \\\n",
      "00                0.0            0.0            0.0            0.0   \n",
      "000               0.0            0.0            0.0            0.0   \n",
      "000pes            0.0            0.0            0.0            0.0   \n",
      "001               0.0            0.0            0.0            0.0   \n",
      "00am              0.0            0.0            0.0            0.0   \n",
      "...               ...            ...            ...            ...   \n",
      "鞛堨姷雼堧嫟            0.0            0.0            0.0            0.0   \n",
      "頃滉淡鞏措ゼ            0.0            0.0            0.0            0.0   \n",
      "饮水思源              0.0            0.0            0.0            0.0   \n",
      "骨奶                0.0            0.0            0.0            0.0   \n",
      "鸿兔大展              0.0            0.0            0.0            0.0   \n",
      "\n",
      "        Message 48594  Message 48595  Message 48596  Message 48597  \\\n",
      "00                0.0            0.0            0.0            0.0   \n",
      "000               0.0            0.0            0.0            0.0   \n",
      "000pes            0.0            0.0            0.0            0.0   \n",
      "001               0.0            0.0            0.0            0.0   \n",
      "00am              0.0            0.0            0.0            0.0   \n",
      "...               ...            ...            ...            ...   \n",
      "鞛堨姷雼堧嫟            0.0            0.0            0.0            0.0   \n",
      "頃滉淡鞏措ゼ            0.0            0.0            0.0            0.0   \n",
      "饮水思源              0.0            0.0            0.0            0.0   \n",
      "骨奶                0.0            0.0            0.0            0.0   \n",
      "鸿兔大展              0.0            0.0            0.0            0.0   \n",
      "\n",
      "        Message 48598  \n",
      "00                0.0  \n",
      "000               0.0  \n",
      "000pes            0.0  \n",
      "001               0.0  \n",
      "00am              0.0  \n",
      "...               ...  \n",
      "鞛堨姷雼堧嫟            0.0  \n",
      "頃滉淡鞏措ゼ            0.0  \n",
      "饮水思源              0.0  \n",
      "骨奶                0.0  \n",
      "鸿兔大展              0.0  \n",
      "\n",
      "[28292 rows x 48598 columns]\n"
     ]
    }
   ],
   "source": [
    "#create a new dataframe of vectorized messages\n",
    "try:\n",
    "  df_tf_idf = pd.DataFrame(tfidf_scores.T.todense(), index=feature_names, columns=message_index)\n",
    "  print(df_tf_idf)\n",
    "except:\n",
    "  pass"
   ]
  },
  {
   "cell_type": "code",
   "execution_count": 55,
   "metadata": {},
   "outputs": [],
   "source": [
    "#transpose the new dataframe so that each row is a message\n",
    "df_tf_idf = df_tf_idf.T"
   ]
  },
  {
   "cell_type": "code",
   "execution_count": 56,
   "metadata": {},
   "outputs": [],
   "source": [
    "#create column of countries for each message\n",
    "df_tf_idf = df_tf_idf.assign(country = df['country'].tolist())"
   ]
  },
  {
   "cell_type": "markdown",
   "metadata": {},
   "source": [
    "## Quick confirmation of accuracy"
   ]
  },
  {
   "cell_type": "code",
   "execution_count": 57,
   "metadata": {},
   "outputs": [
    {
     "data": {
      "text/plain": [
       "Message 1            SG\n",
       "Message 2            SG\n",
       "Message 3            SG\n",
       "Message 4            SG\n",
       "Message 5            SG\n",
       "                  ...  \n",
       "Message 48594    Serbia\n",
       "Message 48595    Serbia\n",
       "Message 48596    Serbia\n",
       "Message 48597    Serbia\n",
       "Message 48598    Serbia\n",
       "Name: country, Length: 48598, dtype: object"
      ]
     },
     "execution_count": 57,
     "metadata": {},
     "output_type": "execute_result"
    }
   ],
   "source": [
    "#this is what the new df looks like\n",
    "df_tf_idf['country']"
   ]
  },
  {
   "cell_type": "code",
   "execution_count": 58,
   "metadata": {},
   "outputs": [
    {
     "data": {
      "text/html": [
       "<div>\n",
       "<style scoped>\n",
       "    .dataframe tbody tr th:only-of-type {\n",
       "        vertical-align: middle;\n",
       "    }\n",
       "\n",
       "    .dataframe tbody tr th {\n",
       "        vertical-align: top;\n",
       "    }\n",
       "\n",
       "    .dataframe thead th {\n",
       "        text-align: right;\n",
       "    }\n",
       "</style>\n",
       "<table border=\"1\" class=\"dataframe\">\n",
       "  <thead>\n",
       "    <tr style=\"text-align: right;\">\n",
       "      <th></th>\n",
       "      <th>id</th>\n",
       "      <th>length</th>\n",
       "      <th>country</th>\n",
       "      <th>message</th>\n",
       "      <th>date</th>\n",
       "      <th>preprocessed_message</th>\n",
       "    </tr>\n",
       "  </thead>\n",
       "  <tbody>\n",
       "    <tr>\n",
       "      <th>0</th>\n",
       "      <td>10120</td>\n",
       "      <td>21</td>\n",
       "      <td>SG</td>\n",
       "      <td>Bugis oso near wat...</td>\n",
       "      <td>2003/4</td>\n",
       "      <td>bugis oso near wat</td>\n",
       "    </tr>\n",
       "    <tr>\n",
       "      <th>1</th>\n",
       "      <td>10121</td>\n",
       "      <td>111</td>\n",
       "      <td>SG</td>\n",
       "      <td>Go until jurong point, crazy.. Available only ...</td>\n",
       "      <td>2003/4</td>\n",
       "      <td>go until jurong point crazy available only in ...</td>\n",
       "    </tr>\n",
       "    <tr>\n",
       "      <th>2</th>\n",
       "      <td>10122</td>\n",
       "      <td>46</td>\n",
       "      <td>SG</td>\n",
       "      <td>I dunno until when... Lets go learn pilates...</td>\n",
       "      <td>2003/4</td>\n",
       "      <td>i dunno until when let go learn pilate</td>\n",
       "    </tr>\n",
       "    <tr>\n",
       "      <th>3</th>\n",
       "      <td>10123</td>\n",
       "      <td>140</td>\n",
       "      <td>SG</td>\n",
       "      <td>Den only weekdays got special price... Haiz......</td>\n",
       "      <td>2003/4</td>\n",
       "      <td>den only weekday get special price haiz cant e...</td>\n",
       "    </tr>\n",
       "    <tr>\n",
       "      <th>4</th>\n",
       "      <td>10124</td>\n",
       "      <td>22</td>\n",
       "      <td>SG</td>\n",
       "      <td>Meet after lunch la...</td>\n",
       "      <td>2003/4</td>\n",
       "      <td>meet after lunch la</td>\n",
       "    </tr>\n",
       "  </tbody>\n",
       "</table>\n",
       "</div>"
      ],
      "text/plain": [
       "      id length country                                            message  \\\n",
       "0  10120     21      SG                              Bugis oso near wat...   \n",
       "1  10121    111      SG  Go until jurong point, crazy.. Available only ...   \n",
       "2  10122     46      SG     I dunno until when... Lets go learn pilates...   \n",
       "3  10123    140      SG  Den only weekdays got special price... Haiz......   \n",
       "4  10124     22      SG                             Meet after lunch la...   \n",
       "\n",
       "     date                               preprocessed_message  \n",
       "0  2003/4                                 bugis oso near wat  \n",
       "1  2003/4  go until jurong point crazy available only in ...  \n",
       "2  2003/4             i dunno until when let go learn pilate  \n",
       "3  2003/4  den only weekday get special price haiz cant e...  \n",
       "4  2003/4                                meet after lunch la  "
      ]
     },
     "execution_count": 58,
     "metadata": {},
     "output_type": "execute_result"
    }
   ],
   "source": [
    "#this country column should match the first five rows of the above cell\n",
    "df.head()"
   ]
  },
  {
   "cell_type": "code",
   "execution_count": 59,
   "metadata": {},
   "outputs": [
    {
     "data": {
      "text/html": [
       "<div>\n",
       "<style scoped>\n",
       "    .dataframe tbody tr th:only-of-type {\n",
       "        vertical-align: middle;\n",
       "    }\n",
       "\n",
       "    .dataframe tbody tr th {\n",
       "        vertical-align: top;\n",
       "    }\n",
       "\n",
       "    .dataframe thead th {\n",
       "        text-align: right;\n",
       "    }\n",
       "</style>\n",
       "<table border=\"1\" class=\"dataframe\">\n",
       "  <thead>\n",
       "    <tr style=\"text-align: right;\">\n",
       "      <th></th>\n",
       "      <th>id</th>\n",
       "      <th>length</th>\n",
       "      <th>country</th>\n",
       "      <th>message</th>\n",
       "      <th>date</th>\n",
       "      <th>preprocessed_message</th>\n",
       "    </tr>\n",
       "  </thead>\n",
       "  <tbody>\n",
       "    <tr>\n",
       "      <th>48593</th>\n",
       "      <td>45712</td>\n",
       "      <td>21</td>\n",
       "      <td>Serbia</td>\n",
       "      <td>Come to me AFTER NOON</td>\n",
       "      <td>2015/3</td>\n",
       "      <td>come to me after noon</td>\n",
       "    </tr>\n",
       "    <tr>\n",
       "      <th>48594</th>\n",
       "      <td>45714</td>\n",
       "      <td>14</td>\n",
       "      <td>Serbia</td>\n",
       "      <td>I LOVE YOU TOO</td>\n",
       "      <td>2015/3</td>\n",
       "      <td>i love you too</td>\n",
       "    </tr>\n",
       "    <tr>\n",
       "      <th>48595</th>\n",
       "      <td>45715</td>\n",
       "      <td>4</td>\n",
       "      <td>Serbia</td>\n",
       "      <td>C-YA</td>\n",
       "      <td>2015/3</td>\n",
       "      <td>c ya</td>\n",
       "    </tr>\n",
       "    <tr>\n",
       "      <th>48596</th>\n",
       "      <td>45717</td>\n",
       "      <td>11</td>\n",
       "      <td>Serbia</td>\n",
       "      <td>BE MY GUEST</td>\n",
       "      <td>2015/3</td>\n",
       "      <td>be my guest</td>\n",
       "    </tr>\n",
       "    <tr>\n",
       "      <th>48597</th>\n",
       "      <td>45718</td>\n",
       "      <td>21</td>\n",
       "      <td>Serbia</td>\n",
       "      <td>MANY MANY MANY PEOPLE</td>\n",
       "      <td>2015/3</td>\n",
       "      <td>many many many people</td>\n",
       "    </tr>\n",
       "  </tbody>\n",
       "</table>\n",
       "</div>"
      ],
      "text/plain": [
       "          id length country                message    date  \\\n",
       "48593  45712     21  Serbia  Come to me AFTER NOON  2015/3   \n",
       "48594  45714     14  Serbia         I LOVE YOU TOO  2015/3   \n",
       "48595  45715      4  Serbia                   C-YA  2015/3   \n",
       "48596  45717     11  Serbia            BE MY GUEST  2015/3   \n",
       "48597  45718     21  Serbia  MANY MANY MANY PEOPLE  2015/3   \n",
       "\n",
       "        preprocessed_message  \n",
       "48593  come to me after noon  \n",
       "48594         i love you too  \n",
       "48595                   c ya  \n",
       "48596            be my guest  \n",
       "48597  many many many people  "
      ]
     },
     "execution_count": 59,
     "metadata": {},
     "output_type": "execute_result"
    }
   ],
   "source": [
    "#this country column should match the last five rows of the above cell\n",
    "df.tail()"
   ]
  },
  {
   "cell_type": "code",
   "execution_count": 61,
   "metadata": {},
   "outputs": [],
   "source": [
    "#save new dataframe to a compressed file for the modeling step\n",
    "df_tf_idf.to_csv('./data/df_tf_idf.zip', index = False)"
   ]
  }
 ],
 "metadata": {
  "kernelspec": {
   "display_name": "Python 3",
   "language": "python",
   "name": "python3"
  },
  "language_info": {
   "codemirror_mode": {
    "name": "ipython",
    "version": 3
   },
   "file_extension": ".py",
   "mimetype": "text/x-python",
   "name": "python",
   "nbconvert_exporter": "python",
   "pygments_lexer": "ipython3",
   "version": "3.8.5"
  }
 },
 "nbformat": 4,
 "nbformat_minor": 4
}
